{
 "cells": [
  {
   "cell_type": "code",
   "execution_count": 1,
   "metadata": {
    "executionInfo": {
     "elapsed": 7,
     "status": "ok",
     "timestamp": 1760642247591,
     "user": {
      "displayName": "Yosyp Yanvari",
      "userId": "04139970537421263718"
     },
     "user_tz": -180
    },
    "id": "npoIMMZ_NnMP"
   },
   "outputs": [],
   "source": [
    "import time\n",
    "import random\n",
    "from typing import Dict\n",
    "from collections import deque"
   ]
  },
  {
   "cell_type": "code",
   "execution_count": 2,
   "metadata": {
    "executionInfo": {
     "elapsed": 7,
     "status": "ok",
     "timestamp": 1760643117417,
     "user": {
      "displayName": "Yosyp Yanvari",
      "userId": "04139970537421263718"
     },
     "user_tz": -180
    },
    "id": "V262hsUmNTFe"
   },
   "outputs": [],
   "source": [
    "class SlidingWindowRateLimiter:\n",
    "    def __init__(self, window_size: int = 10, max_requests: int = 1):\n",
    "        self.window_size = window_size\n",
    "        self.max_requests = max_requests\n",
    "        self.user_requests: Dict[str, deque] = {}\n",
    "\n",
    "    def _cleanup_window(self, user_id: str, current_time: float) -> None:\n",
    "        if user_id not in self.user_requests:\n",
    "            return\n",
    "\n",
    "        user_deque = self.user_requests[user_id]\n",
    "        cutoff_time = current_time - self.window_size\n",
    "\n",
    "        while user_deque and user_deque[0] < cutoff_time:\n",
    "            user_deque.popleft()\n",
    "\n",
    "        if not user_deque:\n",
    "            del self.user_requests[user_id]\n",
    "\n",
    "    def can_send_message(self, user_id: str) -> bool:\n",
    "        current_time = time.time()\n",
    "        self._cleanup_window(user_id, current_time)\n",
    "\n",
    "        if user_id not in self.user_requests:\n",
    "            return True\n",
    "\n",
    "        return len(self.user_requests[user_id]) < self.max_requests\n",
    "\n",
    "    def record_message(self, user_id: str) -> bool:\n",
    "        if not self.can_send_message(user_id):\n",
    "            return False\n",
    "\n",
    "        current_time = time.time()\n",
    "\n",
    "        if user_id not in self.user_requests:\n",
    "            self.user_requests[user_id] = deque()\n",
    "\n",
    "        self.user_requests[user_id].append(current_time)\n",
    "\n",
    "        return True\n",
    "\n",
    "    def time_until_next_allowed(self, user_id: str) -> float:\n",
    "        current_time = time.time()\n",
    "        self._cleanup_window(user_id, current_time)\n",
    "\n",
    "        if len(self.user_requests[user_id]) < self.max_requests:\n",
    "            return 0.0\n",
    "\n",
    "        oldest_time = self.user_requests[user_id][0]\n",
    "        time_passed = oldest_time + self.window_size - current_time\n",
    "        return max(0.0, time_passed)"
   ]
  },
  {
   "cell_type": "code",
   "execution_count": 3,
   "metadata": {
    "executionInfo": {
     "elapsed": 14,
     "status": "ok",
     "timestamp": 1760643118691,
     "user": {
      "displayName": "Yosyp Yanvari",
      "userId": "04139970537421263718"
     },
     "user_tz": -180
    },
    "id": "3vy8ntxrN9AR"
   },
   "outputs": [],
   "source": [
    "# Демонстрація роботи\n",
    "def test_rate_limiter():\n",
    "    # Створюємо rate limiter: вікно 10 секунд, 1 повідомлення\n",
    "    limiter = SlidingWindowRateLimiter(window_size=10, max_requests=1)\n",
    "\n",
    "    # Симулюємо потік повідомлень від користувачів (послідовні ID від 1 до 20)\n",
    "    print(\"\\\\n=== Симуляція потоку повідомлень ===\")\n",
    "    for message_id in range(1, 11):\n",
    "        # Симулюємо різних користувачів (ID від 1 до 5)\n",
    "        user_id = message_id % 5 + 1\n",
    "\n",
    "        result = limiter.record_message(str(user_id))\n",
    "        wait_time = limiter.time_until_next_allowed(str(user_id))\n",
    "\n",
    "        print(f\"Повідомлення {message_id:2d} | Користувач {user_id} | \"\n",
    "              f\"{'✓' if result else f'× (очікування {wait_time:.1f}с)'}\")\n",
    "\n",
    "        # Невелика затримка між повідомленнями для реалістичності\n",
    "        # Випадкова затримка від 0.1 до 1 секунди\n",
    "        time.sleep(random.uniform(0.1, 1.0))\n",
    "\n",
    "    # Чекаємо, поки вікно очиститься\n",
    "    print(\"\\\\nОчікуємо 4 секунди...\")\n",
    "    time.sleep(4)\n",
    "\n",
    "    print(\"\\\\n=== Нова серія повідомлень після очікування ===\")\n",
    "    for message_id in range(11, 21):\n",
    "        user_id = message_id % 5 + 1\n",
    "        result = limiter.record_message(str(user_id))\n",
    "        wait_time = limiter.time_until_next_allowed(str(user_id))\n",
    "        print(f\"Повідомлення {message_id:2d} | Користувач {user_id} | \"\n",
    "              f\"{'✓' if result else f'× (очікування {wait_time:.1f}с)'}\")\n",
    "        # Випадкова затримка від 0.1 до 1 секунди\n",
    "        time.sleep(random.uniform(0.1, 1.0))"
   ]
  },
  {
   "cell_type": "code",
   "execution_count": 4,
   "metadata": {
    "colab": {
     "base_uri": "https://localhost:8080/"
    },
    "executionInfo": {
     "elapsed": 14034,
     "status": "ok",
     "timestamp": 1760643133881,
     "user": {
      "displayName": "Yosyp Yanvari",
      "userId": "04139970537421263718"
     },
     "user_tz": -180
    },
    "id": "Fco0jFOSOAKm",
    "outputId": "b6855d0c-87e8-4415-90e7-c7714f08e1ac"
   },
   "outputs": [
    {
     "name": "stdout",
     "output_type": "stream",
     "text": [
      "\\n=== Симуляція потоку повідомлень ===\n",
      "Повідомлення  1 | Користувач 2 | ✓\n",
      "Повідомлення  2 | Користувач 3 | ✓\n",
      "Повідомлення  3 | Користувач 4 | ✓\n",
      "Повідомлення  4 | Користувач 5 | ✓\n",
      "Повідомлення  5 | Користувач 1 | ✓\n",
      "Повідомлення  6 | Користувач 2 | × (очікування 7.0с)\n",
      "Повідомлення  7 | Користувач 3 | × (очікування 6.3с)\n",
      "Повідомлення  8 | Користувач 4 | × (очікування 6.9с)\n",
      "Повідомлення  9 | Користувач 5 | × (очікування 6.9с)\n",
      "Повідомлення 10 | Користувач 1 | × (очікування 7.5с)\n",
      "\\nОчікуємо 4 секунди...\n",
      "\\n=== Нова серія повідомлень після очікування ===\n",
      "Повідомлення 11 | Користувач 2 | × (очікування 1.0с)\n",
      "Повідомлення 12 | Користувач 3 | × (очікування 0.3с)\n",
      "Повідомлення 13 | Користувач 4 | × (очікування 0.4с)\n",
      "Повідомлення 14 | Користувач 5 | ✓\n",
      "Повідомлення 15 | Користувач 1 | × (очікування 0.4с)\n",
      "Повідомлення 16 | Користувач 2 | ✓\n",
      "Повідомлення 17 | Користувач 3 | ✓\n",
      "Повідомлення 18 | Користувач 4 | ✓\n",
      "Повідомлення 19 | Користувач 5 | × (очікування 7.0с)\n",
      "Повідомлення 20 | Користувач 1 | ✓\n"
     ]
    }
   ],
   "source": [
    "test_rate_limiter()"
   ]
  }
 ],
 "metadata": {
  "colab": {
   "authorship_tag": "ABX9TyNjiTTI6aDqefHNW8pi2Wxk",
   "provenance": []
  },
  "kernelspec": {
   "display_name": "goit",
   "language": "python",
   "name": "python3"
  },
  "language_info": {
   "codemirror_mode": {
    "name": "ipython",
    "version": 3
   },
   "file_extension": ".py",
   "mimetype": "text/x-python",
   "name": "python",
   "nbconvert_exporter": "python",
   "pygments_lexer": "ipython3",
   "version": "3.10.16"
  }
 },
 "nbformat": 4,
 "nbformat_minor": 0
}
