{
 "cells": [
  {
   "cell_type": "code",
   "execution_count": 1,
   "metadata": {
    "executionInfo": {
     "elapsed": 9,
     "status": "ok",
     "timestamp": 1760637973854,
     "user": {
      "displayName": "Yosyp Yanvari",
      "userId": "04139970537421263718"
     },
     "user_tz": -180
    },
    "id": "4zH-shMavmNd"
   },
   "outputs": [],
   "source": [
    "import random\n",
    "import time"
   ]
  },
  {
   "cell_type": "code",
   "execution_count": 2,
   "metadata": {
    "executionInfo": {
     "elapsed": 57,
     "status": "ok",
     "timestamp": 1760637973948,
     "user": {
      "displayName": "Yosyp Yanvari",
      "userId": "04139970537421263718"
     },
     "user_tz": -180
    },
    "id": "EXomYBs9YpK1"
   },
   "outputs": [],
   "source": [
    "class Node:\n",
    "    def __init__(self, key, value):\n",
    "        self.data = (key, value)\n",
    "        self.next = None\n",
    "        self.prev = None\n",
    "\n",
    "\n",
    "class DoublyLinkedList:\n",
    "    def __init__(self):\n",
    "        self.head = None\n",
    "        self.tail = None\n",
    "\n",
    "    def push(self, key, value):\n",
    "        new_node = Node(key, value)\n",
    "        new_node.next = self.head\n",
    "        if self.head:\n",
    "            self.head.prev = new_node\n",
    "        else:\n",
    "            self.tail = new_node\n",
    "        self.head = new_node\n",
    "        return new_node\n",
    "\n",
    "    def remove(self, node):\n",
    "        if node.prev:\n",
    "            node.prev.next = node.next\n",
    "        else:\n",
    "            self.head = node.next\n",
    "        if node.next:\n",
    "            node.next.prev = node.prev\n",
    "        else:\n",
    "            self.tail = node.prev\n",
    "        node.prev = None\n",
    "        node.next = None\n",
    "\n",
    "    def move_to_front(self, node):\n",
    "        if node != self.head:\n",
    "            self.remove(node)\n",
    "            node.next = self.head\n",
    "            self.head.prev = node\n",
    "            self.head = node\n",
    "\n",
    "    def remove_last(self):\n",
    "        if self.tail:\n",
    "            last = self.tail\n",
    "            self.remove(last)\n",
    "            return last\n",
    "        return None\n",
    "\n",
    "\n",
    "class LRUCache:\n",
    "    def __init__(self, capacity):\n",
    "        self.capacity = capacity\n",
    "        self.cache = {}\n",
    "        self.list = DoublyLinkedList()\n",
    "\n",
    "    def get(self, key):\n",
    "        if key in self.cache:\n",
    "            node = self.cache[key]\n",
    "            self.list.move_to_front(node)\n",
    "            return node.data[1]\n",
    "        return -1\n",
    "\n",
    "    def put(self, key, value):\n",
    "        if key in self.cache:\n",
    "            node = self.cache[key]\n",
    "            node.data = (key, value)\n",
    "            self.list.move_to_front(node)\n",
    "        else:\n",
    "            if len(self.cache) >= self.capacity:\n",
    "                last = self.list.remove_last()\n",
    "                if last:\n",
    "                    del self.cache[last.data[0]]\n",
    "            new_node = self.list.push(key, value)\n",
    "            self.cache[key] = new_node\n",
    "\n",
    "    def invalidate_range(self, index):\n",
    "        keys_to_remove = []\n",
    "\n",
    "        for key in self.cache.keys():\n",
    "            left, right = key\n",
    "            if left <= index <= right:\n",
    "                keys_to_remove.append(key)\n",
    "\n",
    "        for key in keys_to_remove:\n",
    "            del self.cache[key]\n",
    "\n",
    "    def clear(self):\n",
    "        self.cache.clear()"
   ]
  },
  {
   "cell_type": "code",
   "execution_count": 3,
   "metadata": {
    "executionInfo": {
     "elapsed": 11,
     "status": "ok",
     "timestamp": 1760637973961,
     "user": {
      "displayName": "Yosyp Yanvari",
      "userId": "04139970537421263718"
     },
     "user_tz": -180
    },
    "id": "B8mw11SmLtFF"
   },
   "outputs": [],
   "source": [
    "def make_queries(n, q, hot_pool=30, p_hot=0.95, p_update=0.03):\n",
    "    hot = [(random.randint(0, n//2), random.randint(n//2, n-1))\n",
    "           for _ in range(hot_pool)]\n",
    "    queries = []\n",
    "    for _ in range(q):\n",
    "        if random.random() < p_update:        # ~3% запитів — Update\n",
    "            idx = random.randint(0, n-1)\n",
    "            val = random.randint(1, 100)\n",
    "            queries.append((\"Update\", idx, val))\n",
    "        else:                                 # ~97% — Range\n",
    "            if random.random() < p_hot:       # 95% — «гарячі» діапазони\n",
    "                left, right = random.choice(hot)\n",
    "            else:                             # 5% — випадкові діапазони\n",
    "                left = random.randint(0, n-1)\n",
    "                right = random.randint(left, n-1)\n",
    "            queries.append((\"Range\", left, right))\n",
    "    return queries"
   ]
  },
  {
   "cell_type": "code",
   "execution_count": 4,
   "metadata": {
    "executionInfo": {
     "elapsed": 3,
     "status": "ok",
     "timestamp": 1760637973967,
     "user": {
      "displayName": "Yosyp Yanvari",
      "userId": "04139970537421263718"
     },
     "user_tz": -180
    },
    "id": "sNzXPGbtP4V_"
   },
   "outputs": [],
   "source": [
    "def range_sum_no_cache(array, left, right):\n",
    "    return sum(array[left:right+1])\n",
    "\n",
    "\n",
    "def update_no_cache(array, index, value):\n",
    "    array[index] = value\n",
    "\n",
    "\n",
    "def range_sum_with_cache(array, left, right):\n",
    "    key = (left, right)\n",
    "\n",
    "    cached_value = cache.get(key)\n",
    "\n",
    "    if cached_value != -1:\n",
    "        return cached_value\n",
    "\n",
    "    result = sum(array[left : right + 1])\n",
    "    cache.put(key, result)\n",
    "    return result\n",
    "\n",
    "\n",
    "def update_with_cache(array, index, value):\n",
    "    array[index] = value\n",
    "    cache.invalidate_range(index)"
   ]
  },
  {
   "cell_type": "code",
   "execution_count": 5,
   "metadata": {
    "executionInfo": {
     "elapsed": 1,
     "status": "ok",
     "timestamp": 1760637973980,
     "user": {
      "displayName": "Yosyp Yanvari",
      "userId": "04139970537421263718"
     },
     "user_tz": -180
    },
    "id": "ss7emFUxhKTJ"
   },
   "outputs": [],
   "source": [
    "def run_without_cache(array, queries):\n",
    "    arr = array.copy()\n",
    "\n",
    "    start_time = time.time()\n",
    "\n",
    "    for query in queries:\n",
    "        if query[0] == \"Range\":\n",
    "            _, left, right = query\n",
    "            range_sum_no_cache(arr, left, right)\n",
    "        elif query[0] == \"Update\":\n",
    "            _, index, value = query\n",
    "            update_no_cache(arr, index, value)\n",
    "\n",
    "    end_time = time.time()\n",
    "    \n",
    "    return end_time - start_time"
   ]
  },
  {
   "cell_type": "code",
   "execution_count": 6,
   "metadata": {
    "executionInfo": {
     "elapsed": 12,
     "status": "ok",
     "timestamp": 1760637973993,
     "user": {
      "displayName": "Yosyp Yanvari",
      "userId": "04139970537421263718"
     },
     "user_tz": -180
    },
    "id": "lC4_eA6VHVOK"
   },
   "outputs": [],
   "source": [
    "def run_with_cache(array, queries):\n",
    "    arr = array.copy()\n",
    "    cache.clear()\n",
    "\n",
    "    start_time = time.time()\n",
    "\n",
    "    for query in queries:\n",
    "        if query[0] == \"Range\":\n",
    "            _, left, right = query\n",
    "            range_sum_with_cache(arr, left, right)\n",
    "        elif query[0] == \"Update\":\n",
    "            _, index, value = query\n",
    "            update_with_cache(arr, index, value)\n",
    "\n",
    "    end_time = time.time()\n",
    "    \n",
    "    return end_time - start_time"
   ]
  },
  {
   "cell_type": "code",
   "execution_count": 7,
   "metadata": {
    "colab": {
     "base_uri": "https://localhost:8080/"
    },
    "executionInfo": {
     "elapsed": 45044,
     "status": "ok",
     "timestamp": 1760638019036,
     "user": {
      "displayName": "Yosyp Yanvari",
      "userId": "04139970537421263718"
     },
     "user_tz": -180
    },
    "id": "V5Jl0YDJHxeh",
    "outputId": "23dab45d-719d-4644-adf2-f85cdc7f134e"
   },
   "outputs": [],
   "source": [
    "n = 100_000\n",
    "q = 50_000\n",
    "\n",
    "cache = LRUCache(capacity=1000)\n",
    "array = [random.randint(1, 100) for _ in range(n)]\n",
    "queries = make_queries(n, q)"
   ]
  },
  {
   "cell_type": "code",
   "execution_count": 8,
   "metadata": {},
   "outputs": [
    {
     "name": "stdout",
     "output_type": "stream",
     "text": [
      "No cache: 13.82\n",
      "LRU-cache: 5.39 (speed up ×2.6)\n"
     ]
    }
   ],
   "source": [
    "time_no_cache = run_without_cache(array, queries)\n",
    "time_with_cache = run_with_cache(array, queries)\n",
    "\n",
    "speedup = time_no_cache / time_with_cache\n",
    "print(f\"No cache: {time_no_cache:.2f}\")\n",
    "print(f\"LRU-cache: {time_with_cache:.2f} (speed up ×{speedup:.1f})\")"
   ]
  }
 ],
 "metadata": {
  "colab": {
   "authorship_tag": "ABX9TyPad8UnqI72h5PRNpm0il55",
   "provenance": []
  },
  "kernelspec": {
   "display_name": "goit",
   "language": "python",
   "name": "python3"
  },
  "language_info": {
   "codemirror_mode": {
    "name": "ipython",
    "version": 3
   },
   "file_extension": ".py",
   "mimetype": "text/x-python",
   "name": "python",
   "nbconvert_exporter": "python",
   "pygments_lexer": "ipython3",
   "version": "3.10.16"
  }
 },
 "nbformat": 4,
 "nbformat_minor": 0
}
